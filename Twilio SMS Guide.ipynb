{
 "cells": [
  {
   "cell_type": "markdown",
   "metadata": {},
   "source": [
    "# Twilio SMS Getting Started Guide\n",
    "\n",
    "## Finding and Purchasing an Available Number and Sending a Message\n",
    "\n",
    "This guide will walk you through step-by-step getting started with Twilio SMS"
   ]
  },
  {
   "cell_type": "markdown",
   "metadata": {},
   "source": [
    "# Walkthrough\n",
    "First, we need to import os and Client from twilio.rest"
   ]
  },
  {
   "cell_type": "code",
   "execution_count": 4,
   "metadata": {
    "scrolled": true
   },
   "outputs": [],
   "source": [
    "import os\n",
    "from twilio.rest import Client\n",
    "import twilio"
   ]
  },
  {
   "cell_type": "markdown",
   "metadata": {},
   "source": [
    "Next, you will want to create another file, info.py, in which you will store your account SID and auth token. Name the variables accountSID and authToken respectively. Then, import the file so that we can access these variables."
   ]
  },
  {
   "cell_type": "code",
   "execution_count": 5,
   "metadata": {},
   "outputs": [],
   "source": [
    "import info"
   ]
  },
  {
   "cell_type": "markdown",
   "metadata": {},
   "source": [
    "We want to write a function that will create a client using these variables:"
   ]
  },
  {
   "cell_type": "code",
   "execution_count": 6,
   "metadata": {},
   "outputs": [],
   "source": [
    "def create_client():\n",
    "    try:\n",
    "        account_sid = os.environ.get(\"ACCOUNT_SID\", info.accountSID)\n",
    "        auth_token = os.environ.get(\"AUTH_TOKEN\", info.authToken)\n",
    "        client = Client(account_sid, auth_token)\n",
    "        return client\n",
    "    except AttributeError:\n",
    "        print(\"Make sure you correctly type your personal information in a file named 'info.py'.\")\n",
    "        return None"
   ]
  },
  {
   "cell_type": "markdown",
   "metadata": {},
   "source": [
    "Using our client, we want to create a function that will search for available phone numbers so we may purchase one to use. I have chosen to search for available phone numbers by area code in the US with the area code '540'. You can change this to whatever area code you prefer.\n",
    "\n",
    "This function with create a list **local** of 20 available phone numbers. \n",
    "\n",
    "After creating the list of local numbers, the function will pick the first one from the list, change its format to '+1xxxxxxxxxx', and return the number."
   ]
  },
  {
   "cell_type": "code",
   "execution_count": 7,
   "metadata": {},
   "outputs": [],
   "source": [
    "def get_number(client, area_code):\n",
    "    try:\n",
    "        limit = 20\n",
    "        local = client.available_phone_numbers('US').local.list(\n",
    "                                                                area_code,\n",
    "                                                                limit\n",
    "                                                            )\n",
    "        number = local[0].friendly_name\n",
    "        my_number = \"+1\" + number[1:4] + number[6:9] + number[10:14]\n",
    "        return my_number\n",
    "    except twilio.base.exceptions.TwilioException:\n",
    "        return (\"Your Twilio credentials were incorrect.\")\n",
    "    except IndexError:\n",
    "        return(\"Area code entered was invalid.\")"
   ]
  },
  {
   "cell_type": "markdown",
   "metadata": {},
   "source": [
    "Now that I have my number, the following **purchase_number** function will purchase it on my account:"
   ]
  },
  {
   "cell_type": "code",
   "execution_count": 8,
   "metadata": {},
   "outputs": [],
   "source": [
    "def purchase_number(client, my_number):\n",
    "    try:\n",
    "        incoming_phone_number = client.incoming_phone_numbers \\\n",
    "                                        .create(phone_number=my_number)\n",
    "        return(\"Number has successfully been purchased.\")\n",
    "    except twilio.base.exceptions.TwilioRestException:\n",
    "        return(\"Problem with twilio account.\")"
   ]
  },
  {
   "cell_type": "markdown",
   "metadata": {},
   "source": [
    "Finally, I can send my message with the function **send_message** below. This will send my message from the number I have just purchased to my personal number stored as a variable in my info.py file. You can change the body to say whatever you want. "
   ]
  },
  {
   "cell_type": "code",
   "execution_count": 9,
   "metadata": {},
   "outputs": [],
   "source": [
    "def send_message(client, my_number, personalNum):\n",
    "    message = client.messages \\\n",
    "                    .create(\n",
    "                         body=\"This is my message.\",\n",
    "                         from_= my_number,\n",
    "                         to= personalNum\n",
    "                     )\n",
    "\n",
    "    return message.sid"
   ]
  },
  {
   "cell_type": "markdown",
   "metadata": {},
   "source": [
    "After creating our functions we can run them. First we will create our client variable."
   ]
  },
  {
   "cell_type": "code",
   "execution_count": null,
   "metadata": {},
   "outputs": [],
   "source": [
    "client = create_client()"
   ]
  },
  {
   "cell_type": "markdown",
   "metadata": {},
   "source": [
    "Next we'll use our **get_number** function to find a local number for us to purchase and print it. Before running, the console will ask us to input and area code to search for."
   ]
  },
  {
   "cell_type": "code",
   "execution_count": null,
   "metadata": {
    "scrolled": true
   },
   "outputs": [],
   "source": [
    "area_code = input(\"Type area code to search for: \")\n",
    "my_number = get_number(client, area_code)\n",
    "print(\"This is my Twilio number: \" + my_number)"
   ]
  },
  {
   "cell_type": "markdown",
   "metadata": {},
   "source": [
    "The next cell will purchase the number we just found."
   ]
  },
  {
   "cell_type": "code",
   "execution_count": null,
   "metadata": {},
   "outputs": [],
   "source": [
    "print(purchase_number(client, my_number))"
   ]
  },
  {
   "cell_type": "markdown",
   "metadata": {},
   "source": [
    "The last cell will send a message from the purchased number to you personal number."
   ]
  },
  {
   "cell_type": "code",
   "execution_count": null,
   "metadata": {},
   "outputs": [],
   "source": [
    "message_sid = send_message(client, my_number, info.personalNum)"
   ]
  },
  {
   "cell_type": "markdown",
   "metadata": {},
   "source": [
    "# Testing Our Code"
   ]
  },
  {
   "cell_type": "code",
   "execution_count": 10,
   "metadata": {},
   "outputs": [],
   "source": [
    "import unittest\n",
    "import re"
   ]
  },
  {
   "cell_type": "code",
   "execution_count": 13,
   "metadata": {},
   "outputs": [],
   "source": [
    "class TestNotebook(unittest.TestCase):\n",
    "    def test_info_py_format(self):\n",
    "        #Is info.personalNum in e. 164 format?\n",
    "        self.assertTrue(re.match('^\\+[1-9]\\d{1,14}$', info.personalNum))\n",
    "    def test_get_number_output_format(self):\n",
    "        account_sid = os.environ.get(\"ACCOUNT_SID\", info.accountSID)\n",
    "        auth_token = os.environ.get(\"AUTH_TOKEN\", info.authToken)\n",
    "        client = Client(account_sid, auth_token)\n",
    "        #Is get_number() output in e. 164 format?\n",
    "        self.assertTrue(re.match('^\\+[1-9]\\d{1,14}$', get_number(client, '540')))\n",
    "    def test_wrong_credentials(self):\n",
    "        account_sid = os.environ.get(\"ACCOUNT_SID\", '1')\n",
    "        auth_token = os.environ.get(\"AUTH_TOKEN\", '2')\n",
    "        client = Client(account_sid, auth_token)\n",
    "        self.assertEqual(get_number(client, '540'), \"Your Twilio credentials were incorrect.\")\n",
    "    def test_wrong_area_code(self):\n",
    "        account_sid = os.environ.get(\"ACCOUNT_SID\", info.accountSID)\n",
    "        auth_token = os.environ.get(\"AUTH_TOKEN\", info.authToken)\n",
    "        client = Client(account_sid, auth_token)\n",
    "        self.assertEqual(get_number(client, '1'), \"Area code entered was invalid.\")"
   ]
  },
  {
   "cell_type": "code",
   "execution_count": 14,
   "metadata": {},
   "outputs": [
    {
     "name": "stderr",
     "output_type": "stream",
     "text": [
      "test_get_number_output_format (__main__.TestNotebook) ... ok\n",
      "test_info_py_format (__main__.TestNotebook) ... ok\n",
      "test_wrong_area_code (__main__.TestNotebook) ... ERROR\n",
      "test_wrong_credentials (__main__.TestNotebook) ... ERROR\n",
      "\n",
      "======================================================================\n",
      "ERROR: test_wrong_area_code (__main__.TestNotebook)\n",
      "----------------------------------------------------------------------\n",
      "Traceback (most recent call last):\n",
      "  File \"<ipython-input-7-b4afd16f618b>\", line 8, in get_number\n",
      "    number = local[0].friendly_name\n",
      "IndexError: list index out of range\n",
      "\n",
      "During handling of the above exception, another exception occurred:\n",
      "\n",
      "Traceback (most recent call last):\n",
      "  File \"<ipython-input-13-dc4a7f98608b>\", line 20, in test_wrong_area_code\n",
      "    self.assertEqual(get_number(client, '1'), \"Area code entered was invalid.\")\n",
      "  File \"<ipython-input-7-b4afd16f618b>\", line 11, in get_number\n",
      "    except twilio.base.exceptions.TwilioException:\n",
      "NameError: name 'twilio' is not defined\n",
      "\n",
      "======================================================================\n",
      "ERROR: test_wrong_credentials (__main__.TestNotebook)\n",
      "----------------------------------------------------------------------\n",
      "Traceback (most recent call last):\n",
      "  File \"<ipython-input-7-b4afd16f618b>\", line 4, in get_number\n",
      "    local = client.available_phone_numbers('US').local.list(\n",
      "  File \"/Users/makenna.page/opt/anaconda3/lib/python3.8/site-packages/twilio/rest/api/v2010/account/available_phone_number/local.py\", line 149, in list\n",
      "    return list(self.stream(\n",
      "  File \"/Users/makenna.page/opt/anaconda3/lib/python3.8/site-packages/twilio/rest/api/v2010/account/available_phone_number/local.py\", line 82, in stream\n",
      "    page = self.page(\n",
      "  File \"/Users/makenna.page/opt/anaconda3/lib/python3.8/site-packages/twilio/rest/api/v2010/account/available_phone_number/local.py\", line 238, in page\n",
      "    return LocalPage(self._version, response, self._solution)\n",
      "  File \"/Users/makenna.page/opt/anaconda3/lib/python3.8/site-packages/twilio/rest/api/v2010/account/available_phone_number/local.py\", line 281, in __init__\n",
      "    super(LocalPage, self).__init__(version, response)\n",
      "  File \"/Users/makenna.page/opt/anaconda3/lib/python3.8/site-packages/twilio/base/page.py\", line 28, in __init__\n",
      "    payload = self.process_response(response)\n",
      "  File \"/Users/makenna.page/opt/anaconda3/lib/python3.8/site-packages/twilio/base/page.py\", line 59, in process_response\n",
      "    raise TwilioException('Unable to fetch page', response)\n",
      "twilio.base.exceptions.TwilioException: ('Unable to fetch page', HTTP 404 {\"code\": 20404, \"message\": \"The requested resource /2010-04-01/Accounts/1/AvailablePhoneNumbers/US/Local.json was not found\", \"more_info\": \"https://www.twilio.com/docs/errors/20404\", \"status\": 404})\n",
      "\n",
      "During handling of the above exception, another exception occurred:\n",
      "\n",
      "Traceback (most recent call last):\n",
      "  File \"<ipython-input-13-dc4a7f98608b>\", line 15, in test_wrong_credentials\n",
      "    self.assertEqual(get_number(client, '540'), \"Your Twilio credentials were incorrect.\")\n",
      "  File \"<ipython-input-7-b4afd16f618b>\", line 11, in get_number\n",
      "    except twilio.base.exceptions.TwilioException:\n",
      "NameError: name 'twilio' is not defined\n",
      "\n",
      "----------------------------------------------------------------------\n",
      "Ran 4 tests in 0.867s\n",
      "\n",
      "FAILED (errors=2)\n"
     ]
    },
    {
     "data": {
      "text/plain": [
       "<unittest.main.TestProgram at 0x7fda5004ddc0>"
      ]
     },
     "execution_count": 14,
     "metadata": {},
     "output_type": "execute_result"
    }
   ],
   "source": [
    "unittest.main(argv=[''], verbosity=2, exit=False)"
   ]
  },
  {
   "cell_type": "code",
   "execution_count": null,
   "metadata": {},
   "outputs": [],
   "source": []
  }
 ],
 "metadata": {
  "kernelspec": {
   "display_name": "Python 3",
   "language": "python",
   "name": "python3"
  },
  "language_info": {
   "codemirror_mode": {
    "name": "ipython",
    "version": 3
   },
   "file_extension": ".py",
   "mimetype": "text/x-python",
   "name": "python",
   "nbconvert_exporter": "python",
   "pygments_lexer": "ipython3",
   "version": "3.8.3"
  }
 },
 "nbformat": 4,
 "nbformat_minor": 4
}
