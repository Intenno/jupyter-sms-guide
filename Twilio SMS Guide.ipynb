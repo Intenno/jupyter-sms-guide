{
 "cells": [
  {
   "cell_type": "markdown",
   "metadata": {},
   "source": [
    "# Twilio SMS Getting Started Guide\n",
    "\n",
    "#### This guide will walk you through step-by-step getting started with Twilio SMS"
   ]
  },
  {
   "cell_type": "markdown",
   "metadata": {},
   "source": [
    "# Walkthrough\n",
    "First, we need to import os and Client from twilio.rest"
   ]
  },
  {
   "cell_type": "code",
   "execution_count": 1,
   "metadata": {
    "scrolled": true
   },
   "outputs": [],
   "source": [
    "import os\n",
    "from twilio.rest import Client"
   ]
  },
  {
   "cell_type": "markdown",
   "metadata": {},
   "source": [
    "Next, you will want to create another file, info.py, in which you will store your account SID and auth token. Name the variables accountSID and authToken respectively. Then, import the file so that we can access these variables."
   ]
  },
  {
   "cell_type": "code",
   "execution_count": 2,
   "metadata": {},
   "outputs": [],
   "source": [
    "import info"
   ]
  },
  {
   "cell_type": "markdown",
   "metadata": {},
   "source": [
    "Then we will create a client using these variables:"
   ]
  },
  {
   "cell_type": "code",
   "execution_count": 3,
   "metadata": {},
   "outputs": [],
   "source": [
    "account_sid = os.environ.get(\"ACCOUNT_SID\", info.accountSID)\n",
    "auth_token = os.environ.get(\"AUTH_TOKEN\", info.authToken)\n",
    "client = Client(account_sid, auth_token)"
   ]
  },
  {
   "cell_type": "markdown",
   "metadata": {},
   "source": [
    "Using our client, we want to search for available phone numbers so we may purchase one to use. I have chosen to search for available phone numbers by area code in the US with the area code '540'. You can change this to whatever area code you prefer.\n",
    "\n",
    "This with create a list **local** of 20 available phone numbers."
   ]
  },
  {
   "cell_type": "markdown",
   "metadata": {},
   "source": [
    "From our **local** list, I have decided to go with the first number. I then have to slice the string so that it is in the format '+xxxxxxxxx'."
   ]
  },
  {
   "cell_type": "code",
   "execution_count": 4,
   "metadata": {},
   "outputs": [],
   "source": [
    "def get_number(client):\n",
    "    local = client.available_phone_numbers('US').local.list(\n",
    "                                                           area_code=540,\n",
    "                                                           limit=20\n",
    "                                                       )\n",
    "    number = local[0].friendly_name\n",
    "    my_number = \"+1\" + number[1:4] + number[6:9] + number[10:14]\n",
    "    return my_number"
   ]
  },
  {
   "cell_type": "markdown",
   "metadata": {},
   "source": [
    "Now that I have my number, I will purchase it on my account with the following code:"
   ]
  },
  {
   "cell_type": "code",
   "execution_count": 14,
   "metadata": {},
   "outputs": [],
   "source": [
    "def purchase_number(client, my_number):\n",
    "    incoming_phone_number = client.incoming_phone_numbers \\\n",
    "                                  .create(phone_number=my_number)"
   ]
  },
  {
   "cell_type": "markdown",
   "metadata": {},
   "source": [
    "Finally, I can send my message. I am sending my message from the number I have just purchased to my personal number stored as a variable in my info.py file. You can change the body to say whatever you want. Running the next cell will send your message."
   ]
  },
  {
   "cell_type": "code",
   "execution_count": 15,
   "metadata": {},
   "outputs": [
    {
     "name": "stdout",
     "output_type": "stream",
     "text": [
      "SMeaed4935e7f54f01bbde02d1333c0a71\n"
     ]
    }
   ],
   "source": [
    "def send_message(client, my_number, personalNum)\n",
    "    message = client.messages \\\n",
    "                    .create(\n",
    "                         body=\"This is my message.\",\n",
    "                         from_= my_number,\n",
    "                         to= personalNum\n",
    "                     )\n",
    "\n",
    "    return message.sid"
   ]
  },
  {
   "cell_type": "code",
   "execution_count": null,
   "metadata": {},
   "outputs": [],
   "source": [
    "my_number = get_number(client)"
   ]
  },
  {
   "cell_type": "code",
   "execution_count": null,
   "metadata": {},
   "outputs": [],
   "source": [
    "#purchase_number(client, my_number)\n",
    "my_number = '+15405175091'"
   ]
  },
  {
   "cell_type": "code",
   "execution_count": null,
   "metadata": {},
   "outputs": [],
   "source": [
    "message_sid = send_message(client, my_number, info.personalNum)"
   ]
  }
 ],
 "metadata": {
  "kernelspec": {
   "display_name": "Python 3",
   "language": "python",
   "name": "python3"
  },
  "language_info": {
   "codemirror_mode": {
    "name": "ipython",
    "version": 3
   },
   "file_extension": ".py",
   "mimetype": "text/x-python",
   "name": "python",
   "nbconvert_exporter": "python",
   "pygments_lexer": "ipython3",
   "version": "3.8.3"
  }
 },
 "nbformat": 4,
 "nbformat_minor": 4
}
