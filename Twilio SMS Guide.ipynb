{
 "cells": [
  {
   "cell_type": "markdown",
   "metadata": {},
   "source": [
    "# Twilio SMS Getting Started Guide\n",
    "\n",
    "## Finding and Purchasing an Available Number and Sending a Message\n",
    "\n",
    "This guide will walk you through step-by-step getting started with Twilio SMS"
   ]
  },
  {
   "cell_type": "markdown",
   "metadata": {},
   "source": [
    "# Walkthrough\n",
    "First, we need to import os and Client from twilio.rest"
   ]
  },
  {
   "cell_type": "code",
   "execution_count": 17,
   "metadata": {
    "scrolled": true
   },
   "outputs": [],
   "source": [
    "import os\n",
    "from twilio.rest import Client"
   ]
  },
  {
   "cell_type": "markdown",
   "metadata": {},
   "source": [
    "Next, you will want to create another file, info.py, in which you will store your account SID and auth token. Name the variables accountSID and authToken respectively. Then, import the file so that we can access these variables."
   ]
  },
  {
   "cell_type": "code",
   "execution_count": 18,
   "metadata": {},
   "outputs": [],
   "source": [
    "import info"
   ]
  },
  {
   "cell_type": "markdown",
   "metadata": {},
   "source": [
    "Then we will create a client using these variables:"
   ]
  },
  {
   "cell_type": "code",
   "execution_count": 19,
   "metadata": {},
   "outputs": [],
   "source": [
    "account_sid = os.environ.get(\"ACCOUNT_SID\", info.accountSID)\n",
    "auth_token = os.environ.get(\"AUTH_TOKEN\", info.authToken)\n",
    "client = Client(account_sid, auth_token)"
   ]
  },
  {
   "cell_type": "markdown",
   "metadata": {},
   "source": [
    "Using our client, we want to create a function that will search for available phone numbers so we may purchase one to use. I have chosen to search for available phone numbers by area code in the US with the area code '540'. You can change this to whatever area code you prefer.\n",
    "\n",
    "This function with create a list **local** of 20 available phone numbers. \n",
    "\n",
    "After creating the list of local numbers, the function will pick the first one from the list, change its format to '+1xxxxxxxxxx', and return the number."
   ]
  },
  {
   "cell_type": "code",
   "execution_count": 20,
   "metadata": {},
   "outputs": [],
   "source": [
    "def get_number(client):\n",
    "    local = client.available_phone_numbers('US').local.list(\n",
    "                                                           area_code=540,\n",
    "                                                           limit=20\n",
    "                                                       )\n",
    "    number = local[0].friendly_name\n",
    "    my_number = \"+1\" + number[1:4] + number[6:9] + number[10:14]\n",
    "    return my_number"
   ]
  },
  {
   "cell_type": "markdown",
   "metadata": {},
   "source": [
    "Now that I have my number, the following **purchase_number** function will purchase it on my account:"
   ]
  },
  {
   "cell_type": "code",
   "execution_count": 21,
   "metadata": {},
   "outputs": [],
   "source": [
    "def purchase_number(client, my_number):\n",
    "    incoming_phone_number = client.incoming_phone_numbers \\\n",
    "                                  .create(phone_number=my_number)"
   ]
  },
  {
   "cell_type": "markdown",
   "metadata": {},
   "source": [
    "Finally, I can send my message with the function **send_message** below. This will send my message from the number I have just purchased to my personal number stored as a variable in my info.py file. You can change the body to say whatever you want. "
   ]
  },
  {
   "cell_type": "code",
   "execution_count": 22,
   "metadata": {},
   "outputs": [],
   "source": [
    "def send_message(client, my_number, personalNum):\n",
    "    message = client.messages \\\n",
    "                    .create(\n",
    "                         body=\"This is my message.\",\n",
    "                         from_= my_number,\n",
    "                         to= personalNum\n",
    "                     )\n",
    "\n",
    "    return message.sid"
   ]
  },
  {
   "cell_type": "markdown",
   "metadata": {},
   "source": [
    "After creating our functions we can run them. The following cell will find a local number for us to purchase and print it."
   ]
  },
  {
   "cell_type": "code",
   "execution_count": 23,
   "metadata": {},
   "outputs": [
    {
     "name": "stdout",
     "output_type": "stream",
     "text": [
      "+15408700308\n"
     ]
    }
   ],
   "source": [
    "my_number = get_number(client)\n",
    "print(\"This is my Twilio number: \" + my_number)"
   ]
  },
  {
   "cell_type": "markdown",
   "metadata": {},
   "source": [
    "The next cell will purchase the number we just found."
   ]
  },
  {
   "cell_type": "code",
   "execution_count": 11,
   "metadata": {},
   "outputs": [],
   "source": [
    "#purchase_number(client, my_number)\n",
    "my_number = '+15405175091'"
   ]
  },
  {
   "cell_type": "markdown",
   "metadata": {},
   "source": [
    "The last cell will send a message from the purchased number to you personal number."
   ]
  },
  {
   "cell_type": "code",
   "execution_count": 12,
   "metadata": {},
   "outputs": [],
   "source": [
    "message_sid = send_message(client, my_number, info.personalNum)"
   ]
  },
  {
   "cell_type": "markdown",
   "metadata": {},
   "source": [
    "# Testing Our Code"
   ]
  },
  {
   "cell_type": "code",
   "execution_count": 24,
   "metadata": {},
   "outputs": [],
   "source": [
    "import unittest"
   ]
  },
  {
   "cell_type": "code",
   "execution_count": 27,
   "metadata": {},
   "outputs": [],
   "source": [
    "class TestNotebook(unittest.TestCase):\n",
    "    def test_get_number(self):\n",
    "        self.assertEqual(get_number(client)[0], '+')\n",
    "        self.assertEqual(len(get_number(client)), 12)"
   ]
  },
  {
   "cell_type": "code",
   "execution_count": 28,
   "metadata": {},
   "outputs": [
    {
     "name": "stderr",
     "output_type": "stream",
     "text": [
      "test_get_number (__main__.TestNotebook) ... ok\n",
      "\n",
      "----------------------------------------------------------------------\n",
      "Ran 1 test in 1.208s\n",
      "\n",
      "OK\n"
     ]
    },
    {
     "data": {
      "text/plain": [
       "<unittest.main.TestProgram at 0x7ff581c64280>"
      ]
     },
     "execution_count": 28,
     "metadata": {},
     "output_type": "execute_result"
    }
   ],
   "source": [
    "unittest.main(argv=[''], verbosity=2, exit=False)"
   ]
  },
  {
   "cell_type": "code",
   "execution_count": null,
   "metadata": {},
   "outputs": [],
   "source": []
  }
 ],
 "metadata": {
  "kernelspec": {
   "display_name": "Python 3",
   "language": "python",
   "name": "python3"
  },
  "language_info": {
   "codemirror_mode": {
    "name": "ipython",
    "version": 3
   },
   "file_extension": ".py",
   "mimetype": "text/x-python",
   "name": "python",
   "nbconvert_exporter": "python",
   "pygments_lexer": "ipython3",
   "version": "3.8.3"
  }
 },
 "nbformat": 4,
 "nbformat_minor": 4
}
