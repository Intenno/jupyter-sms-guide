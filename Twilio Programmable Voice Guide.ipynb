{
 "cells": [
  {
   "cell_type": "markdown",
   "metadata": {},
   "source": [
    "# Twilio Programmable Voice Guide\n",
    "This guide will show you how to make a call using Twilio Programmable Voice.\n",
    "## Walkthrough\n",
    "First, we need to import **nbimporter** so that we can import the **create_client** function from the Getting Started notebook."
   ]
  },
  {
   "cell_type": "code",
   "execution_count": null,
   "metadata": {},
   "outputs": [],
   "source": [
    "import nbimporter\n",
    "from Twilio_Basic_Setup_Guide import create_client"
   ]
  },
  {
   "cell_type": "markdown",
   "metadata": {},
   "source": [
    "We also need to import our **info.py** file again to access our private information stored there."
   ]
  },
  {
   "cell_type": "code",
   "execution_count": null,
   "metadata": {},
   "outputs": [],
   "source": [
    "import info"
   ]
  },
  {
   "cell_type": "markdown",
   "metadata": {},
   "source": [
    "### Make_Call Function\n",
    "The following function **make_call** will make a call from your twilio number to your personal number which are both stored as variables in your info.py file. The phone call will play the message at the url location specified, and you may change this as you please. As written below, the phone call will play a demo message recorded by Twilio."
   ]
  },
  {
   "cell_type": "code",
   "execution_count": null,
   "metadata": {},
   "outputs": [],
   "source": [
    "def make_call(client, my_twilio_number, personalNum):\n",
    "    call = client.calls.create(\n",
    "                        url='http://demo.twilio.com/docs/voice.xml',\n",
    "                        to= personalNum,\n",
    "                        from_= my_twilio_number\n",
    "                    )\n",
    "    return call.sid"
   ]
  },
  {
   "cell_type": "markdown",
   "metadata": {},
   "source": [
    "### Calling Our Functions\n",
    "We will use the **create_client** function imported from the Setup Guide to create our client variable."
   ]
  },
  {
   "cell_type": "code",
   "execution_count": null,
   "metadata": {},
   "outputs": [],
   "source": [
    "client = create_client()"
   ]
  },
  {
   "cell_type": "markdown",
   "metadata": {},
   "source": [
    "The last cell will make a call from your twilio number to your personal number with the specified recorded voice message."
   ]
  },
  {
   "cell_type": "code",
   "execution_count": null,
   "metadata": {},
   "outputs": [],
   "source": [
    "call_sid = make_call(client, info.my_twilio_number, info.personalNum)"
   ]
  },
  {
   "cell_type": "markdown",
   "metadata": {},
   "source": [
    " "
   ]
  }
 ],
 "metadata": {
  "kernelspec": {
   "display_name": "Python 3",
   "language": "python",
   "name": "python3"
  },
  "language_info": {
   "codemirror_mode": {
    "name": "ipython",
    "version": 3
   },
   "file_extension": ".py",
   "mimetype": "text/x-python",
   "name": "python",
   "nbconvert_exporter": "python",
   "pygments_lexer": "ipython3",
   "version": "3.8.3"
  }
 },
 "nbformat": 4,
 "nbformat_minor": 4
}
