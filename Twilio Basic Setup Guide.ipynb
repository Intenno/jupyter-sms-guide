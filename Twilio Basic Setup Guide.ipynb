{
 "cells": [
  {
   "cell_type": "markdown",
   "metadata": {},
   "source": [
    "# Twilio Basic Setup Guide\n",
    "\n",
    "## Finding and Purchasing an Available Number\n",
    "\n",
    "This guide will walk you through step-by-step getting started with Twilio SMS"
   ]
  },
  {
   "cell_type": "markdown",
   "metadata": {},
   "source": [
    "# Walkthrough\n",
    "First, we need to import os and Client from twilio.rest"
   ]
  },
  {
   "cell_type": "code",
   "execution_count": 35,
   "metadata": {
    "scrolled": true
   },
   "outputs": [],
   "source": [
    "import os\n",
    "from twilio.rest import Client\n",
    "import twilio"
   ]
  },
  {
   "cell_type": "markdown",
   "metadata": {},
   "source": [
    "Next, you will want to create another file, info.py, in which you will store your account SID and auth token. Name the variables accountSID and authToken respectively. Then, import the file so that we can access these variables."
   ]
  },
  {
   "cell_type": "code",
   "execution_count": 36,
   "metadata": {},
   "outputs": [],
   "source": [
    "import info"
   ]
  },
  {
   "cell_type": "markdown",
   "metadata": {},
   "source": [
    "### Writing functions\n",
    "We want to write a function that will create a client using these variables:"
   ]
  },
  {
   "cell_type": "code",
   "execution_count": 37,
   "metadata": {},
   "outputs": [],
   "source": [
    "def create_client():\n",
    "    try:\n",
    "        account_sid = os.environ.get(\"ACCOUNT_SID\", info.accountSID)\n",
    "        auth_token = os.environ.get(\"AUTH_TOKEN\", info.authToken)\n",
    "        client = Client(account_sid, auth_token)\n",
    "        return client\n",
    "    except AttributeError:\n",
    "        print(\"Make sure you correctly type your personal information in a file named 'info.py'.\")\n",
    "        return None"
   ]
  },
  {
   "cell_type": "markdown",
   "metadata": {},
   "source": [
    "Using our client, we want to create a function that will search for available phone numbers so we may purchase one to use. I have chosen to search for available phone numbers by area code in the US with the area code '540'. You can change this to whatever area code you prefer.\n",
    "\n",
    "This function with create a list **local** of 20 available phone numbers. \n",
    "\n",
    "After creating the list of local numbers, the function will pick the first one from the list, change its format to '+1xxxxxxxxxx', and return the number."
   ]
  },
  {
   "cell_type": "code",
   "execution_count": 38,
   "metadata": {},
   "outputs": [],
   "source": [
    "def get_number(client, area_code):\n",
    "    try:\n",
    "        limit = 20\n",
    "        local = client.available_phone_numbers('US').local.list(\n",
    "                                                                area_code,\n",
    "                                                                limit\n",
    "                                                            )\n",
    "        number = local[0].friendly_name\n",
    "        my_twilio_number = \"+1\" + number[1:4] + number[6:9] + number[10:14]\n",
    "        return my_twilio_number\n",
    "    except twilio.base.exceptions.TwilioException:\n",
    "        return (\"Your Twilio credentials were incorrect.\")\n",
    "    except IndexError:\n",
    "        return(\"Area code entered was invalid.\")"
   ]
  },
  {
   "cell_type": "markdown",
   "metadata": {},
   "source": [
    "Now that I have my number, the following **purchase_number** function will purchase it on my account:"
   ]
  },
  {
   "cell_type": "code",
   "execution_count": 39,
   "metadata": {},
   "outputs": [],
   "source": [
    "def purchase_number(client, my_twilio_number):\n",
    "    try:\n",
    "        incoming_phone_number = client.incoming_phone_numbers \\\n",
    "                                        .create(phone_number=my_twilio_number)\n",
    "        f = open(\"info.py\", \"a\")\n",
    "        f.write(\"\\nmy_twilio_number = '\" + my_twilio_number + \"'\")\n",
    "        f.close()\n",
    "        return(\"Number has successfully been purchased.\")\n",
    "    except twilio.base.exceptions.TwilioRestException:\n",
    "        return(\"Problem with twilio account.\")"
   ]
  },
  {
   "cell_type": "markdown",
   "metadata": {},
   "source": [
    "### Running our Functions\n",
    "After creating our functions we can run them. First we will create our client variable."
   ]
  },
  {
   "cell_type": "code",
   "execution_count": 40,
   "metadata": {},
   "outputs": [],
   "source": [
    "client = create_client()"
   ]
  },
  {
   "cell_type": "markdown",
   "metadata": {},
   "source": [
    "Next we'll use our **get_number** function to find a local number for us to purchase and print it. Before running, the console will ask us to input and area code to search for."
   ]
  },
  {
   "cell_type": "code",
   "execution_count": 41,
   "metadata": {
    "scrolled": true
   },
   "outputs": [
    {
     "name": "stdout",
     "output_type": "stream",
     "text": [
      "Type area code to search for: 540\n",
      "This is my Twilio number: +15404263320\n"
     ]
    }
   ],
   "source": [
    "area_code = input(\"Type area code to search for: \")\n",
    "my_twilio_number = get_number(client, area_code)\n",
    "print(\"This is my Twilio number: \" + my_twilio_number)"
   ]
  },
  {
   "cell_type": "markdown",
   "metadata": {},
   "source": [
    "The next cell will purchase the number we just found and write the number to our **info.py** file."
   ]
  },
  {
   "cell_type": "code",
   "execution_count": 33,
   "metadata": {},
   "outputs": [],
   "source": [
    "print(purchase_number(client, my_twilio_number))"
   ]
  },
  {
   "cell_type": "markdown",
   "metadata": {},
   "source": [
    "# Testing Our Code"
   ]
  },
  {
   "cell_type": "code",
   "execution_count": null,
   "metadata": {},
   "outputs": [],
   "source": [
    "import unittest\n",
    "import re"
   ]
  },
  {
   "cell_type": "markdown",
   "metadata": {},
   "source": [
    "### Testing Class"
   ]
  },
  {
   "cell_type": "code",
   "execution_count": null,
   "metadata": {},
   "outputs": [],
   "source": [
    "class TestNotebook(unittest.TestCase):\n",
    "    def test_info_py_format(self):\n",
    "        #Is info.personalNum in e. 164 format?\n",
    "        self.assertTrue(re.match('^\\+[1-9]\\d{1,14}$', info.personalNum))\n",
    "    def test_get_number_output_format(self):\n",
    "        account_sid = os.environ.get(\"ACCOUNT_SID\", info.accountSID)\n",
    "        auth_token = os.environ.get(\"AUTH_TOKEN\", info.authToken)\n",
    "        client = Client(account_sid, auth_token)\n",
    "        #Is get_number() output in e. 164 format?\n",
    "        self.assertTrue(re.match('^\\+[1-9]\\d{1,14}$', get_number(client, '540')))\n",
    "    def test_wrong_credentials(self):\n",
    "        account_sid = os.environ.get(\"ACCOUNT_SID\", '1')\n",
    "        auth_token = os.environ.get(\"AUTH_TOKEN\", '2')\n",
    "        client = Client(account_sid, auth_token)\n",
    "        self.assertEqual(get_number(client, '540'), \"Your Twilio credentials were incorrect.\")\n",
    "    def test_wrong_area_code(self):\n",
    "        account_sid = os.environ.get(\"ACCOUNT_SID\", info.accountSID)\n",
    "        auth_token = os.environ.get(\"AUTH_TOKEN\", info.authToken)\n",
    "        client = Client(account_sid, auth_token)\n",
    "        self.assertEqual(get_number(client, '1'), \"Area code entered was invalid.\")"
   ]
  },
  {
   "cell_type": "markdown",
   "metadata": {},
   "source": [
    "### Run Our Tests"
   ]
  },
  {
   "cell_type": "code",
   "execution_count": null,
   "metadata": {},
   "outputs": [],
   "source": [
    "unittest.main(argv=[''], verbosity=2, exit=False)"
   ]
  }
 ],
 "metadata": {
  "kernelspec": {
   "display_name": "Python 3",
   "language": "python",
   "name": "python3"
  },
  "language_info": {
   "codemirror_mode": {
    "name": "ipython",
    "version": 3
   },
   "file_extension": ".py",
   "mimetype": "text/x-python",
   "name": "python",
   "nbconvert_exporter": "python",
   "pygments_lexer": "ipython3",
   "version": "3.8.3"
  }
 },
 "nbformat": 4,
 "nbformat_minor": 4
}
