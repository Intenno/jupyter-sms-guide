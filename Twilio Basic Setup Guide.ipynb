{
 "cells": [
  {
   "cell_type": "markdown",
   "metadata": {},
   "source": [
    "# Twilio Basic Setup Guide\n",
    "\n",
    "This guide will show you how to find and purchase a number in your twilio account."
   ]
  },
  {
   "cell_type": "markdown",
   "metadata": {},
   "source": [
    "## Walkthrough\n",
    "First, we need to import os, twilio, and Client from twilio.rest"
   ]
  },
  {
   "cell_type": "code",
   "execution_count": null,
   "metadata": {
    "scrolled": true
   },
   "outputs": [],
   "source": [
    "import os\n",
    "from twilio.rest import Client\n",
    "import twilio"
   ]
  },
  {
   "cell_type": "markdown",
   "metadata": {},
   "source": [
    "Next, you will want to create another file, info.py, in which you will store your account SID and auth token. Name the variables accountSID and authToken respectively. Then, import the file so that we can access these variables."
   ]
  },
  {
   "cell_type": "code",
   "execution_count": null,
   "metadata": {},
   "outputs": [],
   "source": [
    "import info"
   ]
  },
  {
   "cell_type": "markdown",
   "metadata": {},
   "source": [
    "### Functions\n",
    "First, we want to write a function that will create a client using our accountSID and authToken variables."
   ]
  },
  {
   "cell_type": "code",
   "execution_count": null,
   "metadata": {},
   "outputs": [],
   "source": [
    "def create_client():\n",
    "    try:\n",
    "        account_sid = os.environ.get(\"ACCOUNT_SID\", info.accountSID)\n",
    "        auth_token = os.environ.get(\"AUTH_TOKEN\", info.authToken)\n",
    "        client = Client(account_sid, auth_token)\n",
    "        return client\n",
    "    except AttributeError:\n",
    "        print(\"Make sure you correctly type your personal information in a file named 'info.py'.\")\n",
    "        return None"
   ]
  },
  {
   "cell_type": "markdown",
   "metadata": {},
   "source": [
    "Using our client, we want to create a function that will search for available phone numbers so we may purchase one to use. The function takes the client variable along with an area code as a string of three numbers.\n",
    "\n",
    "This function with create a list **local** of 20 available phone numbers. \n",
    "\n",
    "After creating the list of local numbers, the function will pick the first one from the list, change its format to '+1xxxxxxxxxx', and return the number."
   ]
  },
  {
   "cell_type": "code",
   "execution_count": null,
   "metadata": {},
   "outputs": [],
   "source": [
    "def get_number(client, area_code):\n",
    "    try:\n",
    "        limit = 20\n",
    "        local = client.available_phone_numbers('US').local.list(\n",
    "                                                                area_code,\n",
    "                                                                limit\n",
    "                                                            )\n",
    "        number = local[0].friendly_name\n",
    "        my_twilio_number = \"+1\" + number[1:4] + number[6:9] + number[10:14]\n",
    "        print(\"This is my Twilio number: \")\n",
    "        return my_twilio_number\n",
    "    except twilio.base.exceptions.TwilioException:\n",
    "        return (\"Your Twilio credentials were incorrect.\")\n",
    "    except IndexError:\n",
    "        return(\"Area code entered was invalid.\")"
   ]
  },
  {
   "cell_type": "markdown",
   "metadata": {},
   "source": [
    "Now that we chose an available number, the following **purchase_number** function will purchase it on your account using the client. Once purchased, it will write the purchased number to **info.py** so it can be referenced from there in the future."
   ]
  },
  {
   "cell_type": "code",
   "execution_count": null,
   "metadata": {},
   "outputs": [],
   "source": [
    "def purchase_number(client, my_twilio_number):\n",
    "    try:\n",
    "        incoming_phone_number = client.incoming_phone_numbers \\\n",
    "                                        .create(phone_number=my_twilio_number)\n",
    "        f = open(\"info.py\", \"a\")\n",
    "        f.write(\"\\nmy_twilio_number = '\" + my_twilio_number + \"'\")\n",
    "        f.close()\n",
    "        return(\"Number has successfully been purchased.\")\n",
    "    except twilio.base.exceptions.TwilioRestException:\n",
    "        return(\"Problem with twilio account.\")"
   ]
  },
  {
   "cell_type": "markdown",
   "metadata": {},
   "source": [
    "### Calling Our Functions\n",
    "After creating our functions we can run them. First we will create our client variable."
   ]
  },
  {
   "cell_type": "code",
   "execution_count": null,
   "metadata": {},
   "outputs": [],
   "source": [
    "client = create_client()"
   ]
  },
  {
   "cell_type": "markdown",
   "metadata": {},
   "source": [
    "Next we'll use our **get_number** function to find a local number for us to purchase. Before running, the console will ask us to input and area code to search for."
   ]
  },
  {
   "cell_type": "code",
   "execution_count": null,
   "metadata": {
    "scrolled": true
   },
   "outputs": [],
   "source": [
    "area_code = input(\"Type area code to search for: \")\n",
    "my_twilio_number = get_number(client, area_code)\n",
    "print(my_twilio_number)"
   ]
  },
  {
   "cell_type": "markdown",
   "metadata": {},
   "source": [
    "The next cell will purchase the number we just found and write the number to our **info.py** file."
   ]
  },
  {
   "cell_type": "code",
   "execution_count": null,
   "metadata": {},
   "outputs": [],
   "source": [
    "print(purchase_number(client, my_twilio_number))"
   ]
  },
  {
   "cell_type": "markdown",
   "metadata": {},
   "source": [
    "# Testing Our Code\n",
    "To test our code we need to import **unittest**. We also need to import **re** to make sure our string variables are formatted correctly"
   ]
  },
  {
   "cell_type": "code",
   "execution_count": null,
   "metadata": {},
   "outputs": [],
   "source": [
    "import unittest\n",
    "import re"
   ]
  },
  {
   "cell_type": "markdown",
   "metadata": {},
   "source": [
    "### Testing Class"
   ]
  },
  {
   "cell_type": "code",
   "execution_count": null,
   "metadata": {},
   "outputs": [],
   "source": [
    "class TestNotebook(unittest.TestCase):\n",
    "    def test_info_py_format(self):\n",
    "        #Is info.personalNum in e. 164 format?\n",
    "        self.assertTrue(re.match('^\\+[1-9]\\d{1,14}$', info.personalNum))\n",
    "    def test_get_number_output_format(self):\n",
    "        account_sid = os.environ.get(\"ACCOUNT_SID\", info.accountSID)\n",
    "        auth_token = os.environ.get(\"AUTH_TOKEN\", info.authToken)\n",
    "        client = Client(account_sid, auth_token)\n",
    "        #Is get_number() output in e. 164 format?\n",
    "        self.assertTrue(re.match('^\\+[1-9]\\d{1,14}$', get_number(client, '540')))\n",
    "    def test_wrong_credentials(self):\n",
    "        account_sid = os.environ.get(\"ACCOUNT_SID\", '1')\n",
    "        auth_token = os.environ.get(\"AUTH_TOKEN\", '2')\n",
    "        client = Client(account_sid, auth_token)\n",
    "        self.assertEqual(get_number(client, '540'), \"Your Twilio credentials were incorrect.\")\n",
    "    def test_wrong_area_code(self):\n",
    "        account_sid = os.environ.get(\"ACCOUNT_SID\", info.accountSID)\n",
    "        auth_token = os.environ.get(\"AUTH_TOKEN\", info.authToken)\n",
    "        client = Client(account_sid, auth_token)\n",
    "        self.assertEqual(get_number(client, '1'), \"Area code entered was invalid.\")"
   ]
  },
  {
   "cell_type": "markdown",
   "metadata": {},
   "source": [
    "### Run Our Tests\n",
    "The following line will run our tests."
   ]
  },
  {
   "cell_type": "code",
   "execution_count": null,
   "metadata": {},
   "outputs": [],
   "source": [
    "unittest.main(argv=[''], verbosity=2, exit=False)"
   ]
  },
  {
   "cell_type": "markdown",
   "metadata": {},
   "source": [
    " "
   ]
  }
 ],
 "metadata": {
  "kernelspec": {
   "display_name": "Python 3",
   "language": "python",
   "name": "python3"
  },
  "language_info": {
   "codemirror_mode": {
    "name": "ipython",
    "version": 3
   },
   "file_extension": ".py",
   "mimetype": "text/x-python",
   "name": "python",
   "nbconvert_exporter": "python",
   "pygments_lexer": "ipython3",
   "version": "3.8.3"
  }
 },
 "nbformat": 4,
 "nbformat_minor": 4
}
